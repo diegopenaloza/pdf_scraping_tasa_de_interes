{
  "nbformat": 4,
  "nbformat_minor": 0,
  "metadata": {
    "colab": {
      "name": "PDF scraping-Optenrer tasa  de interes pasiva referenciasl  plazo 361 y mas (2018-2022)",
      "provenance": [],
      "collapsed_sections": [],
      "authorship_tag": "ABX9TyNsfm2MjzEuwQ1+3tTTYaHi",
      "include_colab_link": true
    },
    "kernelspec": {
      "name": "python3",
      "display_name": "Python 3"
    },
    "language_info": {
      "name": "python"
    }
  },
  "cells": [
    {
      "cell_type": "markdown",
      "metadata": {
        "id": "view-in-github",
        "colab_type": "text"
      },
      "source": [
        "<a href=\"https://colab.research.google.com/github/diegopenaloza/pdf_scraping_tasa_de_interes/blob/main/PDF_scraping_Optenrer_tasa_de_interes_pasiva_referenciasl_plazo_361_y_mas_(2018_2022).ipynb\" target=\"_parent\"><img src=\"https://colab.research.google.com/assets/colab-badge.svg\" alt=\"Open In Colab\"/></a>"
      ]
    },
    {
      "cell_type": "code",
      "source": [
        "import requests\n",
        "from bs4 import BeautifulSoup\n",
        "import re"
      ],
      "metadata": {
        "id": "MxLNBvGe7tyY"
      },
      "execution_count": null,
      "outputs": []
    },
    {
      "cell_type": "code",
      "source": [
        "r=0\n",
        "s=0\n",
        "for i in range(2018,2022):\n",
        "  \n",
        "  for j in range(1,13):\n",
        "    s=s+1\n",
        "    if j<10:\n",
        "      page = requests.get('https://contenido.bce.fin.ec/documentos/Estadisticas/SectorMonFin/TasasInteres/TasasVigentes0%i%i.htm'%(j,i))\n",
        "      soup = BeautifulSoup(page.text, 'html.parser')\n",
        "    else:\n",
        "      page = requests.get('https://contenido.bce.fin.ec/documentos/Estadisticas/SectorMonFin/TasasInteres/TasasVigentes%i%i.htm'%(j,i))\n",
        "      soup = BeautifulSoup(page.text, 'html.parser')  \n",
        "    for h in range(0,len(soup.find_all('td'))):\n",
        "      if re.search(r'361',str(soup.find_all('td')[h].string)):\n",
        "        r+=float(soup.find_all('td')[h+1].string)\n",
        "        print(s,i,j,r)\n"
      ],
      "metadata": {
        "colab": {
          "base_uri": "https://localhost:8080/"
        },
        "id": "1QzLASv_LU5z",
        "outputId": "d1b164c1-ea89-4100-e363-da02a3d012e1"
      },
      "execution_count": null,
      "outputs": [
        {
          "output_type": "stream",
          "name": "stdout",
          "text": [
            "1 2018 1 7.38\n",
            "2 2018 2 14.649999999999999\n",
            "3 2018 3 21.86\n",
            "4 2018 4 29.07\n",
            "5 2018 5 36.35\n",
            "6 2018 6 43.7\n",
            "7 2018 7 51.13\n",
            "8 2018 8 58.56\n",
            "9 2018 9 65.85000000000001\n",
            "10 2018 10 73.38000000000001\n",
            "11 2018 11 80.96000000000001\n",
            "12 2018 12 88.69000000000001\n",
            "13 2019 1 96.35000000000001\n",
            "14 2019 2 104.2\n",
            "15 2019 3 112.07000000000001\n",
            "16 2019 4 120.06\n",
            "17 2019 5 128.01\n",
            "18 2019 6 135.95999999999998\n",
            "19 2019 7 143.95\n",
            "20 2019 8 151.98\n",
            "21 2019 9 159.95999999999998\n",
            "22 2019 10 168.02999999999997\n",
            "23 2019 11 176.14\n",
            "24 2019 12 184.29999999999998\n",
            "25 2020 1 192.48999999999998\n",
            "26 2020 2 200.67\n",
            "27 2020 3 208.89999999999998\n",
            "28 2020 4 216.83999999999997\n",
            "29 2020 5 225.14\n",
            "30 2020 6 233.51\n",
            "31 2020 7 241.84\n",
            "32 2020 8 250.12\n",
            "33 2020 9 258.37\n",
            "34 2020 10 266.67\n",
            "35 2020 11 274.83000000000004\n",
            "36 2020 12 282.90000000000003\n",
            "37 2021 1 290.90000000000003\n",
            "38 2021 2 298.89000000000004\n",
            "39 2021 3 306.85\n",
            "40 2021 4 314.84000000000003\n",
            "41 2021 5 322.73\n",
            "42 2021 6 330.49\n",
            "43 2021 7 338.19\n",
            "44 2021 8 345.69\n",
            "45 2021 9 353.36\n",
            "46 2021 10 360.84000000000003\n",
            "47 2021 11 368.44000000000005\n",
            "48 2021 12 375.9800000000001\n"
          ]
        }
      ]
    },
    {
      "cell_type": "code",
      "source": [
        "(r+7.74)/48"
      ],
      "metadata": {
        "colab": {
          "base_uri": "https://localhost:8080/"
        },
        "id": "QGf2YkJZ9oKW",
        "outputId": "5aebb422-c875-484c-e1aa-3dbfce4498a8"
      },
      "execution_count": null,
      "outputs": [
        {
          "output_type": "execute_result",
          "data": {
            "text/plain": [
              "7.994166666666668"
            ]
          },
          "metadata": {},
          "execution_count": 10
        }
      ]
    }
  ]
}